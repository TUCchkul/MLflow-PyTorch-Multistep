{
 "cells": [
  {
   "cell_type": "code",
   "execution_count": 1,
   "id": "a602e5cc",
   "metadata": {},
   "outputs": [],
   "source": [
    "import torch\n",
    "import os \n",
    "import numpy as np\n",
    "import torch.nn as nn\n",
    "import torch.nn.functional as F\n",
    "from torch.optim.lr_scheduler import StepLR\n",
    "from torchvision import datasets, transforms\n",
    "import mlflow\n",
    "import mlflow.pytorch"
   ]
  },
  {
   "cell_type": "code",
   "execution_count": 2,
   "id": "5774a8b5",
   "metadata": {},
   "outputs": [],
   "source": [
    "class Config:\n",
    "    EPOCHS = 10\n",
    "    BATCH_SIZE = 32\n",
    "    LR = 0.01\n",
    "    DEVICE = 'cuda' if torch.cuda.is_available() else 'cpu'\n",
    "    GAMMA = 0.7\n",
    "    SEED = 42\n",
    "    LOG_INTERVAL = 10\n",
    "    TEST_BATCH_SIZE = 1000\n",
    "    DRY_RUN = True"
   ]
  },
  {
   "cell_type": "code",
   "execution_count": 3,
   "id": "8d0b3b34",
   "metadata": {},
   "outputs": [],
   "source": [
    "config = Config()"
   ]
  },
  {
   "cell_type": "code",
   "execution_count": 4,
   "id": "3cbd1a2b",
   "metadata": {},
   "outputs": [],
   "source": [
    "class ConvNet(nn.Module):\n",
    "    def __init__(self):\n",
    "        super(ConvNet, self).__init__()\n",
    "        self.conv1 = nn.Conv2d(1, 32, 3, 1)\n",
    "        self.conv2 = nn.Conv2d(32, 64, 3, 1)\n",
    "        self.dropout1 = nn.Dropout(0.25)\n",
    "        self.dropout2 = nn.Dropout(0.5)\n",
    "        self.fc1 = nn.Linear(9216, 128)\n",
    "        self.fc2 = nn.Linear(128, 10)\n",
    "\n",
    "    def forward(self, x):\n",
    "        x = self.conv1(x)\n",
    "        x = F.relu(x)\n",
    "        x = self.conv2(x)\n",
    "        x = F.relu(x)\n",
    "        x = F.max_pool2d(x, 2)\n",
    "        x = self.dropout1(x)\n",
    "        x = torch.flatten(x, 1)\n",
    "        x = self.fc1(x)\n",
    "        x = F.relu(x)\n",
    "        x = self.dropout2(x)\n",
    "        x = self.fc2(x)\n",
    "        output = F.log_softmax(x, dim=1)\n",
    "        return output"
   ]
  },
  {
   "cell_type": "code",
   "execution_count": 5,
   "id": "4d60580b",
   "metadata": {},
   "outputs": [],
   "source": [
    "def train_(config, model, device, train_loader, optimizer, epoch):\n",
    "    model.train()\n",
    "    for batch_idx, (data, target) in enumerate(train_loader):\n",
    "        data, target = data.to(device), target.to(device)\n",
    "        optimizer.zero_grad()\n",
    "        pred = model(data)\n",
    "        loss = F.cross_entropy(pred, target)\n",
    "        loss.backward()\n",
    "        optimizer.step()\n",
    "        if batch_idx % config.LOG_INTERVAL == 0:\n",
    "            print(f\"train epoch: {epoch} [{batch_idx * len(data)}/{len(train_loader.dataset)} ({100.0 *batch_idx / len(train_loader):.0f})]\\t Loss:  {loss.item():.6f}\")\n",
    "            \n",
    "            if config.DRY_RUN:\n",
    "                break"
   ]
  },
  {
   "cell_type": "code",
   "execution_count": 6,
   "id": "17eb6c1b",
   "metadata": {},
   "outputs": [],
   "source": [
    "def test(model, device, test_loader):\n",
    "    pass"
   ]
  },
  {
   "cell_type": "code",
   "execution_count": 7,
   "id": "7ae71403",
   "metadata": {},
   "outputs": [
    {
     "data": {
      "text/plain": [
       "<torch._C.Generator at 0x1c862beb9f0>"
      ]
     },
     "execution_count": 7,
     "metadata": {},
     "output_type": "execute_result"
    }
   ],
   "source": [
    "torch.manual_seed(config.SEED)"
   ]
  },
  {
   "cell_type": "code",
   "execution_count": 8,
   "id": "23c228c6",
   "metadata": {},
   "outputs": [],
   "source": [
    "train_kwargs = {\"batch_size\": config.BATCH_SIZE}\n",
    "test_kwargs = {\"batch_size\": config.TEST_BATCH_SIZE}"
   ]
  },
  {
   "cell_type": "code",
   "execution_count": 9,
   "id": "1880c671",
   "metadata": {},
   "outputs": [],
   "source": [
    "if config.DEVICE == \"cuda\":\n",
    "    cuda_kwargs = {\"num_workers\": 1, \"pin_memory\": True, \"shuffle\": True}\n",
    "    train_kwargs.update(cuda_kwargs)\n",
    "    test_kwargs.update(cuda_kwargs)"
   ]
  },
  {
   "cell_type": "code",
   "execution_count": 10,
   "id": "5a562bd0",
   "metadata": {},
   "outputs": [],
   "source": [
    "transform = transforms.Compose(\n",
    "    [transforms.ToTensor()]\n",
    ")"
   ]
  },
  {
   "cell_type": "code",
   "execution_count": 11,
   "id": "1e70873c",
   "metadata": {},
   "outputs": [],
   "source": [
    "train = datasets.MNIST(\"../data\", train=True, download=True, transform=transform)\n",
    "test = datasets.MNIST(\"../data\", train=False, download=True, transform=transform)\n",
    "\n",
    "train_loader = torch.utils.data.DataLoader(train, **train_kwargs)\n",
    "test_loader = torch.utils.data.DataLoader(test, **test_kwargs)"
   ]
  },
  {
   "cell_type": "code",
   "execution_count": 12,
   "id": "dfae6fdf",
   "metadata": {},
   "outputs": [
    {
     "name": "stdout",
     "output_type": "stream",
     "text": [
      "RecursiveScriptModule(\n",
      "  original_name=ConvNet\n",
      "  (conv1): RecursiveScriptModule(original_name=Conv2d)\n",
      "  (conv2): RecursiveScriptModule(original_name=Conv2d)\n",
      "  (dropout1): RecursiveScriptModule(original_name=Dropout)\n",
      "  (dropout2): RecursiveScriptModule(original_name=Dropout)\n",
      "  (fc1): RecursiveScriptModule(original_name=Linear)\n",
      "  (fc2): RecursiveScriptModule(original_name=Linear)\n",
      ")\n"
     ]
    }
   ],
   "source": [
    "model = ConvNet().to(config.DEVICE)\n",
    "scripted_model = torch.jit.script(model)\n",
    "print(scripted_model)\n",
    "optimizer = torch.optim.Adam(model.parameters(), lr=config.LR)\n",
    "\n",
    "scheduler = StepLR(optimizer, step_size=1, gamma=config.GAMMA)"
   ]
  },
  {
   "cell_type": "code",
   "execution_count": 13,
   "id": "a2ff8509",
   "metadata": {},
   "outputs": [
    {
     "name": "stdout",
     "output_type": "stream",
     "text": [
      "torch.Size([32, 1, 28, 28]) torch.Size([32])\n"
     ]
    }
   ],
   "source": [
    "for i in train_loader:\n",
    "    print(i[0].shape,i[1].shape)\n",
    "    break"
   ]
  },
  {
   "cell_type": "code",
   "execution_count": 14,
   "id": "ad0b463c",
   "metadata": {},
   "outputs": [
    {
     "name": "stdout",
     "output_type": "stream",
     "text": [
      "train epoch: 1 [0/60000 (0)]\t Loss:  2.312801\n",
      "train epoch: 2 [0/60000 (0)]\t Loss:  4.570090\n",
      "train epoch: 3 [0/60000 (0)]\t Loss:  2.771825\n",
      "train epoch: 4 [0/60000 (0)]\t Loss:  2.506991\n",
      "train epoch: 5 [0/60000 (0)]\t Loss:  2.299998\n",
      "train epoch: 6 [0/60000 (0)]\t Loss:  2.217733\n",
      "train epoch: 7 [0/60000 (0)]\t Loss:  2.239721\n",
      "train epoch: 8 [0/60000 (0)]\t Loss:  2.210659\n",
      "train epoch: 9 [0/60000 (0)]\t Loss:  2.201233\n",
      "train epoch: 10 [0/60000 (0)]\t Loss:  2.176142\n"
     ]
    }
   ],
   "source": [
    "for epoch in range(1, config.EPOCHS + 1):\n",
    "    train_(config, model, config.DEVICE, train_loader, optimizer, epoch)\n",
    "    scheduler.step()"
   ]
  },
  {
   "cell_type": "code",
   "execution_count": 19,
   "id": "6e20a547",
   "metadata": {},
   "outputs": [
    {
     "name": "stdout",
     "output_type": "stream",
     "text": [
      "actual: 2, predicted: 1\n"
     ]
    }
   ],
   "source": [
    "# Changed from unsqeeze to test_datapoints[0].reshape(1,1,28,28)\n",
    "with mlflow.start_run() as run:\n",
    "    mlflow.pytorch.log_model(model, \"model\")# save the model in mlflow\n",
    "    model_path = mlflow.get_artifact_uri(\"model\")# load the model in mlflow for the pytorch\n",
    "    loaded_torch_model = mlflow.pytorch.load_model(model_path)# load the model again\n",
    "    model.eval()#for evaluationg a model\n",
    "    with torch.no_grad():# we are not going to calculate gradient because while evaluating you are not suppose to update the weightsor trainable parameters\n",
    "        test_datapoints, test_target = next(iter(test_loader))\n",
    "        pred = model(test_datapoints[1].reshape(1,1,28,28).to(config.DEVICE))\n",
    "        actual = test_target[1].item()\n",
    "        predicted = torch.argmax(pred).item()\n",
    "        print(f\"actual: {actual}, predicted: {predicted}\")"
   ]
  },
  {
   "cell_type": "code",
   "execution_count": null,
   "id": "ec1d68b4",
   "metadata": {},
   "outputs": [],
   "source": []
  }
 ],
 "metadata": {
  "kernelspec": {
   "display_name": "Python 3 (ipykernel)",
   "language": "python",
   "name": "python3"
  },
  "language_info": {
   "codemirror_mode": {
    "name": "ipython",
    "version": 3
   },
   "file_extension": ".py",
   "mimetype": "text/x-python",
   "name": "python",
   "nbconvert_exporter": "python",
   "pygments_lexer": "ipython3",
   "version": "3.7.0"
  }
 },
 "nbformat": 4,
 "nbformat_minor": 5
}
